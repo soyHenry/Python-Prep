{
 "cells": [
  {
   "attachments": {},
   "cell_type": "markdown",
   "metadata": {},
   "source": [
    "## Flujos de Control"
   ]
  },
  {
   "attachments": {},
   "cell_type": "markdown",
   "metadata": {},
   "source": [
    "1) Crear una variable que contenga un elemento del conjunto de números enteros y luego imprimir por pantalla si es mayor o menor a cero"
   ]
  },
  {
   "cell_type": "code",
   "execution_count": 1,
   "metadata": {},
   "outputs": [
    {
     "name": "stdout",
     "output_type": "stream",
     "text": [
      "3  es mayor a cero\n"
     ]
    }
   ],
   "source": [
    "x=3\n",
    "if x>0:\n",
    "    print(x,' es mayor a cero')\n",
    "elif x<0:\n",
    "    print(x,' es menor a cero')\n",
    "else:\n",
    "    print(x,' es igual a cero')"
   ]
  },
  {
   "attachments": {},
   "cell_type": "markdown",
   "metadata": {},
   "source": [
    "2) Crear dos variables y un condicional que informe si son del mismo tipo de dato"
   ]
  },
  {
   "cell_type": "code",
   "execution_count": 4,
   "metadata": {},
   "outputs": [
    {
     "name": "stdout",
     "output_type": "stream",
     "text": [
      "Hola y 123 no son del mismo tipo, ya que Hola es <class 'str'>  y 123 es <class 'int'>\n"
     ]
    }
   ],
   "source": [
    "var1='Hola'\n",
    "var2=123\n",
    "if type(var1)==type(var2):\n",
    "    print(var1,' y',var2,' son del mismo tipo, ', type(var1))\n",
    "else:\n",
    "    print(var1,'y',var2,'no son del mismo tipo, ya que', var1,'es', type(var1),' y', var2,'es', type(var2))"
   ]
  },
  {
   "attachments": {},
   "cell_type": "markdown",
   "metadata": {},
   "source": [
    "3) Para los valores enteros del 1 al 20, imprimir por pantalla si es par o impar"
   ]
  },
  {
   "cell_type": "code",
   "execution_count": 10,
   "metadata": {},
   "outputs": [
    {
     "name": "stdout",
     "output_type": "stream",
     "text": [
      "1  es impar\n",
      "2  es par\n",
      "3  es impar\n",
      "4  es par\n",
      "5  es impar\n",
      "6  es par\n",
      "7  es impar\n",
      "8  es par\n",
      "9  es impar\n",
      "10  es par\n",
      "11  es impar\n",
      "12  es par\n",
      "13  es impar\n",
      "14  es par\n",
      "15  es impar\n",
      "16  es par\n",
      "17  es impar\n",
      "18  es par\n",
      "19  es impar\n",
      "20  es par\n"
     ]
    }
   ],
   "source": [
    "for i in range(1,21):\n",
    "    if i%2==0:\n",
    "        print(i,' es par')\n",
    "    else:\n",
    "        print(i,' es impar')"
   ]
  },
  {
   "attachments": {},
   "cell_type": "markdown",
   "metadata": {},
   "source": [
    "4) En un ciclo for mostrar para los valores entre 0 y 5 el resultado de elevarlo a la potencia igual a 3"
   ]
  },
  {
   "cell_type": "code",
   "execution_count": 4,
   "metadata": {},
   "outputs": [
    {
     "name": "stdout",
     "output_type": "stream",
     "text": [
      "0  elevado a la 3 es: 0\n",
      "1  elevado a la 3 es: 1\n",
      "2  elevado a la 3 es: 8\n",
      "3  elevado a la 3 es: 27\n",
      "4  elevado a la 3 es: 64\n",
      "5  elevado a la 3 es: 125\n"
     ]
    }
   ],
   "source": [
    "for i in range(0,6):\n",
    "    print(i,' elevado a la 3 es:', i**3)"
   ]
  },
  {
   "attachments": {},
   "cell_type": "markdown",
   "metadata": {},
   "source": [
    "5) Crear una variable que contenga un número entero y realizar un ciclo for la misma cantidad de ciclos"
   ]
  },
  {
   "cell_type": "code",
   "execution_count": 6,
   "metadata": {},
   "outputs": [
    {
     "name": "stdout",
     "output_type": "stream",
     "text": [
      "ciclo nro 1\n",
      "ciclo nro 2\n",
      "ciclo nro 3\n",
      "ciclo nro 4\n",
      "ciclo nro 5\n",
      "ciclo nro 6\n",
      "ciclo nro 7\n",
      "ciclo nro 8\n",
      "ciclo nro 9\n"
     ]
    }
   ],
   "source": [
    "x=9\n",
    "for i in range(1,x+1):\n",
    "    print('ciclo nro',i)"
   ]
  },
  {
   "attachments": {},
   "cell_type": "markdown",
   "metadata": {},
   "source": [
    "6) Utilizar un ciclo while para realizar el factorial de un número guardado en una variable, sólo si la variable contiene un número entero mayor a 0"
   ]
  },
  {
   "cell_type": "code",
   "execution_count": 21,
   "metadata": {},
   "outputs": [
    {
     "name": "stdout",
     "output_type": "stream",
     "text": [
      "El factorial es 720\n"
     ]
    }
   ],
   "source": [
    "var=6\n",
    "if type(var)==int and var>0 :\n",
    "    factorial=var\n",
    "    while (var>2):\n",
    "        var=var-1\n",
    "        factorial=factorial*var\n",
    "    print(\"El factorial es\",factorial)\n",
    "else:\n",
    "    print(\"El numero \", var, \"no es un entero o es menor a 0\")"
   ]
  },
  {
   "attachments": {},
   "cell_type": "markdown",
   "metadata": {},
   "source": [
    "7) Crear un ciclo for dentro de un ciclo while"
   ]
  },
  {
   "cell_type": "code",
   "execution_count": 17,
   "metadata": {},
   "outputs": [
    {
     "name": "stdout",
     "output_type": "stream",
     "text": [
      "el ciclo while es: 8\n",
      "el ciclo for es  2\n",
      "el ciclo for es  4\n",
      "el ciclo for es  6\n",
      "el ciclo for es  8\n",
      "el ciclo for es  10\n",
      "el ciclo for es  12\n",
      "el ciclo for es  14\n",
      "el ciclo for es  16\n",
      "el ciclo while es: 6\n",
      "el ciclo for es  2\n",
      "el ciclo for es  4\n",
      "el ciclo for es  6\n",
      "el ciclo for es  8\n",
      "el ciclo for es  10\n",
      "el ciclo for es  12\n",
      "el ciclo while es: 4\n",
      "el ciclo for es  2\n",
      "el ciclo for es  4\n",
      "el ciclo for es  6\n",
      "el ciclo for es  8\n",
      "el ciclo while es: 2\n",
      "el ciclo for es  2\n",
      "el ciclo for es  4\n"
     ]
    }
   ],
   "source": [
    "x=8\n",
    "while x>1:\n",
    "    print(\"el ciclo while es:\", str(x))\n",
    "    for i in range(1,x+1):\n",
    "        v=i*2\n",
    "        print('el ciclo for es ', str(v))\n",
    "    x-=2\n",
    "    "
   ]
  },
  {
   "attachments": {},
   "cell_type": "markdown",
   "metadata": {},
   "source": [
    "8) Crear un ciclo while dentro de un ciclo for"
   ]
  },
  {
   "cell_type": "code",
   "execution_count": 38,
   "metadata": {},
   "outputs": [
    {
     "name": "stdout",
     "output_type": "stream",
     "text": [
      "Ciclo for nro 1\n",
      "Ciclo while nro 1\n",
      "Ciclo for nro 2\n",
      "Ciclo while nro 2\n",
      "Ciclo while nro 1\n",
      "Ciclo for nro 3\n",
      "Ciclo while nro 3\n",
      "Ciclo while nro 2\n",
      "Ciclo while nro 1\n",
      "Ciclo for nro 4\n",
      "Ciclo while nro 4\n",
      "Ciclo while nro 3\n",
      "Ciclo while nro 2\n",
      "Ciclo while nro 1\n",
      "Ciclo for nro 5\n",
      "Ciclo while nro 5\n",
      "Ciclo while nro 4\n",
      "Ciclo while nro 3\n",
      "Ciclo while nro 2\n",
      "Ciclo while nro 1\n"
     ]
    }
   ],
   "source": [
    "n = 5\n",
    "for i in range(1, n+1):\n",
    "    print('Ciclo for nro ' + str(i))  # Imprime el número del ciclo for\n",
    "    n=i\n",
    "    n_temp = n  # Almacena el valor original de n en una variable temporal\n",
    "    \n",
    "    while n_temp > 0:  # Ciclo while que se ejecuta mientras n_temp sea mayor que 0\n",
    "        print('Ciclo while nro ' + str(n_temp))  # Imprime el número del ciclo while\n",
    "        n_temp-=1\n",
    "        \n",
    "        if n_temp <= 0:\n",
    "            break  # Sale del ciclo while cuando n_temp sea menor o igual a 0"
   ]
  },
  {
   "attachments": {},
   "cell_type": "markdown",
   "metadata": {},
   "source": [
    "9) Imprimir los números primos existentes entre 0 y 30"
   ]
  },
  {
   "cell_type": "code",
   "execution_count": 70,
   "metadata": {},
   "outputs": [
    {
     "name": "stdout",
     "output_type": "stream",
     "text": [
      "0\n",
      "1\n",
      "2\n",
      "3\n",
      "5\n",
      "7\n",
      "11\n",
      "13\n",
      "17\n",
      "19\n",
      "23\n",
      "29\n"
     ]
    }
   ],
   "source": [
    "max=30\n",
    "n=0\n",
    "primo=True\n",
    "\n",
    "while (n<max):\n",
    "    for i in range(2,n):\n",
    "        if (n%i==0):\n",
    "            primo=False\n",
    "    if (primo):\n",
    "        print(n)\n",
    "    else:\n",
    "        primo=True\n",
    "    n+=1"
   ]
  },
  {
   "attachments": {},
   "cell_type": "markdown",
   "metadata": {},
   "source": [
    "10) ¿Se puede mejorar el proceso del punto 9? Utilizar las sentencias break y/ó continue para tal fin"
   ]
  },
  {
   "cell_type": "code",
   "execution_count": 69,
   "metadata": {},
   "outputs": [
    {
     "name": "stdout",
     "output_type": "stream",
     "text": [
      "0\n",
      "1\n",
      "2\n",
      "3\n",
      "5\n",
      "7\n",
      "11\n",
      "13\n",
      "17\n",
      "19\n",
      "23\n",
      "29\n"
     ]
    }
   ],
   "source": [
    "max=30\n",
    "n=0\n",
    "primo=True\n",
    "\n",
    "while (n<max):\n",
    "    for i in range(2,n):\n",
    "        if (n%i==0):\n",
    "            primo=False\n",
    "            break\n",
    "    if (primo):\n",
    "         print(n)\n",
    "    else:\n",
    "        primo=True\n",
    "    n+=1"
   ]
  },
  {
   "attachments": {},
   "cell_type": "markdown",
   "metadata": {},
   "source": [
    "11) En los puntos 9 y 10, se diseño un código que encuentra números primos y además se lo optimizó. ¿Es posible saber en qué medida se optimizó?"
   ]
  },
  {
   "cell_type": "code",
   "execution_count": 72,
   "metadata": {},
   "outputs": [
    {
     "name": "stdout",
     "output_type": "stream",
     "text": [
      "0\n",
      "1\n",
      "2\n",
      "3\n",
      "5\n",
      "7\n",
      "11\n",
      "13\n",
      "17\n",
      "19\n",
      "23\n",
      "29\n",
      "Cantidad de ciclos: 378\n"
     ]
    }
   ],
   "source": [
    "ciclos_sin_break = 0\n",
    "max=30\n",
    "n=0\n",
    "primo=True\n",
    "\n",
    "while (n<max):\n",
    "    for i in range(2,n):\n",
    "        ciclos_sin_break += 1\n",
    "        if (n%i==0):\n",
    "            primo=False\n",
    "    if (primo):\n",
    "        print(n)\n",
    "    else:\n",
    "        primo=True\n",
    "    n+=1\n",
    "print('Cantidad de ciclos: ' + str(ciclos_sin_break))"
   ]
  },
  {
   "cell_type": "code",
   "execution_count": 74,
   "metadata": {},
   "outputs": [
    {
     "name": "stdout",
     "output_type": "stream",
     "text": [
      "0\n",
      "1\n",
      "2\n",
      "3\n",
      "5\n",
      "7\n",
      "11\n",
      "13\n",
      "17\n",
      "19\n",
      "23\n",
      "29\n",
      "Cantidad de ciclos: 134\n"
     ]
    }
   ],
   "source": [
    "ciclos_con_break = 0\n",
    "max=30\n",
    "n=0\n",
    "primo=True\n",
    "\n",
    "while (n<max):\n",
    "    for i in range(2,n):\n",
    "        ciclos_con_break += 1\n",
    "        if (n%i==0):\n",
    "            primo=False\n",
    "            break\n",
    "    if (primo):\n",
    "         print(n)\n",
    "    else:\n",
    "        primo=True\n",
    "    n+=1\n",
    "print('Cantidad de ciclos: ' + str(ciclos_con_break))"
   ]
  },
  {
   "attachments": {},
   "cell_type": "markdown",
   "metadata": {},
   "source": [
    "12) Aplicando continue, armar un ciclo while que solo imprima los valores divisibles por 12, dentro del rango de números de 100 a 300"
   ]
  },
  {
   "cell_type": "code",
   "execution_count": 79,
   "metadata": {},
   "outputs": [
    {
     "name": "stdout",
     "output_type": "stream",
     "text": [
      "108\n",
      "120\n",
      "132\n",
      "144\n",
      "156\n",
      "168\n",
      "180\n",
      "192\n",
      "204\n",
      "216\n",
      "228\n",
      "240\n",
      "252\n",
      "264\n",
      "276\n",
      "288\n",
      "300\n"
     ]
    }
   ],
   "source": [
    "maximo=300\n",
    "minimo=100\n",
    "\n",
    "for i in range(minimo,maximo+1):\n",
    "    if (i%12==0):\n",
    "        print(str(i))\n",
    "    else:\n",
    "        continue\n",
    "    i+=1"
   ]
  },
  {
   "attachments": {},
   "cell_type": "markdown",
   "metadata": {},
   "source": [
    "13) Utilizar la función **input()** que permite hacer ingresos por teclado, para encontrar números primos y dar la opción al usario de buscar el siguiente"
   ]
  },
  {
   "cell_type": "code",
   "execution_count": 5,
   "metadata": {},
   "outputs": [
    {
     "name": "stdout",
     "output_type": "stream",
     "text": [
      "56 no es primo\n",
      "21 no es primo\n",
      "65 no es primo\n",
      "23 es primo\n",
      "17 es primo\n",
      "16 no es primo\n",
      "24 no es primo\n",
      "58 no es primo\n"
     ]
    },
    {
     "data": {
      "text/plain": [
       "<IPython.core.autocall.ZMQExitAutocall at 0x22c585e26e0>"
      ]
     },
     "execution_count": 5,
     "metadata": {},
     "output_type": "execute_result"
    }
   ],
   "source": [
    "num=input('Entre el número que quiere evaluar: ')\n",
    "num=int(num)\n",
    "primo=True\n",
    "\n",
    "while num!=1:\n",
    "    for i in range(2,num):\n",
    "        if (num%i==0):\n",
    "            primo=False\n",
    "            break\n",
    "    if (primo):\n",
    "        print(num, 'es primo')\n",
    "        primo=True\n",
    "        num=int(input('Desea evaluar otro número? Ingréselo, sino oprima 1 para salir'))\n",
    "    else:\n",
    "        print(num, 'no es primo')\n",
    "        primo=True\n",
    "        num=int(input('Desea evaluar otro número? Ingréselo, sino oprima 1 para salir'))\n",
    "exit\n"
   ]
  },
  {
   "attachments": {},
   "cell_type": "markdown",
   "metadata": {},
   "source": [
    "14) Crear un ciclo while que encuentre dentro del rango de 100 a 300 el primer número divisible por 3 y además múltiplo de 6"
   ]
  },
  {
   "cell_type": "code",
   "execution_count": 35,
   "metadata": {},
   "outputs": [
    {
     "name": "stdout",
     "output_type": "stream",
     "text": [
      "102 es divisible por 3 y múltiplo de 6\n"
     ]
    }
   ],
   "source": [
    "ma=300\n",
    "mi=100\n",
    "\n",
    "for i in range(mi, ma+1):\n",
    "    if (i%6==0) and (i%3==0):\n",
    "        print(i, 'es divisible por 3 y múltiplo de 6')\n",
    "        break\n"
   ]
  },
  {
   "cell_type": "code",
   "execution_count": 36,
   "metadata": {},
   "outputs": [
    {
     "name": "stdout",
     "output_type": "stream",
     "text": [
      "102 es divisible por 3 y múltiplo de 6\n"
     ]
    }
   ],
   "source": [
    "ma=300\n",
    "mi=100\n",
    "\n",
    "while (mi<ma):\n",
    "    if (mi%6==0) and (mi%3==0):\n",
    "        print(i, 'es divisible por 3 y múltiplo de 6')\n",
    "        break\n",
    "    else:\n",
    "        mi+=1\n"
   ]
  }
 ],
 "metadata": {
  "interpreter": {
   "hash": "c85384e4cb51c8b72350f3a8712cc8351fdc3955e32a27f9b60c6242ab125f01"
  },
  "kernelspec": {
   "display_name": "Python 3 (ipykernel)",
   "language": "python",
   "name": "python3"
  },
  "language_info": {
   "codemirror_mode": {
    "name": "ipython",
    "version": 3
   },
   "file_extension": ".py",
   "mimetype": "text/x-python",
   "name": "python",
   "nbconvert_exporter": "python",
   "pygments_lexer": "ipython3",
   "version": "3.10.5"
  }
 },
 "nbformat": 4,
 "nbformat_minor": 4
}
